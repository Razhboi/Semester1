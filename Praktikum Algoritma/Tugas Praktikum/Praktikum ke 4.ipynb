{
 "cells": [
  {
   "cell_type": "code",
   "execution_count": null,
   "metadata": {},
   "outputs": [],
   "source": []
  },
  {
   "cell_type": "code",
   "execution_count": 4,
   "metadata": {},
   "outputs": [
    {
     "name": "stdout",
     "output_type": "stream",
     "text": [
      "Your Age is :16\n",
      "Tidak Boleh Membuat SIM\n"
     ]
    }
   ],
   "source": [
    "#Mulai\n",
    "Age = input(\"Age:\")\n",
    "print(\"Your Age is :\"+ Age)\n",
    "if int (Age)>=17:\n",
    "    print(\"Boleh Membuat SIM\")\n",
    "else :\n",
    "    print(\"Tidak Boleh Membuat SIM\")\n",
    "    \n",
    "#Selesai"
   ]
  },
  {
   "cell_type": "code",
   "execution_count": 14,
   "metadata": {},
   "outputs": [
    {
     "name": "stdout",
     "output_type": "stream",
     "text": [
      "Your Gread\n",
      "A\n"
     ]
    }
   ],
   "source": [
    "#Mulai\n",
    "\n",
    "Grade = input(\"Gread:\")\n",
    "print(\"Your Gread\")\n",
    "if int (Grade) >= 90:\n",
    "    print(\"A\")\n",
    "elif  int (Grade) >= 80:\n",
    "    print(\"B+\")\n",
    "elif int (Grade) >= 70:\n",
    "    print(\"B\")\n",
    "elif int (Grade) >= 60:\n",
    "    print(\"C+\")\n",
    "elif int (Grade) >= 50:\n",
    "    print(\"C\")\n",
    "elif int (Grade) >= 40:\n",
    "    print(\"D\")\n",
    "else :\n",
    "    int(Grade)> 40\n",
    "    print(\"E\")\n",
    "    \n",
    "#Selesai\n",
    "    \n",
    "\n",
    "\n"
   ]
  },
  {
   "cell_type": "markdown",
   "metadata": {},
   "source": []
  },
  {
   "cell_type": "code",
   "execution_count": 17,
   "metadata": {},
   "outputs": [
    {
     "name": "stdout",
     "output_type": "stream",
     "text": [
      "Your Greade: E\n"
     ]
    }
   ],
   "source": [
    "#Mulai\n",
    "Grade = input(\"Grade:\")\n",
    "if 80 <= float(Grade)<=100:\n",
    "    Grade= \"A\"\n",
    "elif 77.50 <=float(Grade)<=79.99:\n",
    "    Grade = \"A-\"\n",
    "elif 75.00 <=float(Grade)<=77.49:\n",
    "    Grade = \"A/B\"\n",
    "elif 72.50 <=float(Grade)<=74.99:\n",
    "    Grade = \"B+\"\n",
    "elif 70.00 <=float(Grade)<=72.49:\n",
    "    Grade = \"B\"\n",
    "elif 67.50 <=float(Grade)<=69.99:\n",
    "    Grade = \"B-\"\n",
    "elif 65.00 <=float(Grade)<=67.49:\n",
    "    Grade = \"B/C\"\n",
    "elif 62.50 <=float(Grade)<=64.99:\n",
    "    Grade = \"C+\"\n",
    "elif 60.00 <=float(Grade)<=62.49:\n",
    "    Grade = \"C\"\n",
    "elif 55.00 <=float(Grade)<=59.99:\n",
    "    Grade = \"C-\"\n",
    "elif 50.00 <=float(Grade)<=54.99:\n",
    "    Grade = \"C/D\"\n",
    "elif 45.00 <=float(Grade)<=49.99:\n",
    "    Grade = \"D+\"\n",
    "elif 40.00 <=float(Grade)<=44.99:\n",
    "    Grade = \"D\"\n",
    "else: \n",
    "    Grade = \"E\"\n",
    "print(\"Your Greade:\",Grade)\n",
    "#Selesai\n",
    "\n",
    "    \n"
   ]
  },
  {
   "cell_type": "code",
   "execution_count": null,
   "metadata": {},
   "outputs": [],
   "source": []
  },
  {
   "cell_type": "code",
   "execution_count": null,
   "metadata": {},
   "outputs": [],
   "source": []
  }
 ],
 "metadata": {
  "kernelspec": {
   "display_name": "base",
   "language": "python",
   "name": "python3"
  },
  "language_info": {
   "codemirror_mode": {
    "name": "ipython",
    "version": 3
   },
   "file_extension": ".py",
   "mimetype": "text/x-python",
   "name": "python",
   "nbconvert_exporter": "python",
   "pygments_lexer": "ipython3",
   "version": "3.11.4"
  },
  "orig_nbformat": 4
 },
 "nbformat": 4,
 "nbformat_minor": 2
}
