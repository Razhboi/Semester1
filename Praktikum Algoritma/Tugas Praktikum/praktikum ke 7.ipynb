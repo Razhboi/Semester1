{
 "cells": [
  {
   "cell_type": "code",
   "execution_count": 58,
   "metadata": {},
   "outputs": [
    {
     "name": "stdout",
     "output_type": "stream",
     "text": [
      "Nama\t\t : Noufal Aji Prasetyo\n",
      "Kelas\t\t : Rombel 3 Praktikum\n",
      "Tanggal lahir\t : 16 Juli 2003\n",
      "No Hp \t\t : 088232426959\n",
      "Alamat\t\t : Drojogan,Bumirejo\n",
      "Hobi\t\t : \n",
      "\t\t 1. Badminton\n",
      "\t\t 2. Nonton Film\n",
      "\t\t 3. Game\n"
     ]
    }
   ],
   "source": [
    "data = {}\n",
    "\n",
    "name = input(\"masukan nama\")\n",
    "kelas = input(\"masukan kelas\")\n",
    "TanggalLahir = input(\"masukan tanggal lahir mahasiswa\")\n",
    "noHp = input(\"masukan no hp mahasiswa\")\n",
    "alamat = input(\"masukan alamat mahasiswa\")\n",
    "\n",
    "data [\"Nama\\t\\t :\"] = name\n",
    "data [\"Kelas\\t\\t :\"] = kelas\n",
    "data [\"Tanggal lahir\\t :\"] = TanggalLahir\n",
    "data [\"No Hp \\t\\t :\"] = noHp\n",
    "data [\"Alamat\\t\\t :\"] = alamat\n",
    "data [\"Hobi\\t\\t :\"] = '\\n\\t\\t 1. '+ input ('masukan hobi')+'\\n\\t\\t 2. '+ input('Hobi 2')+'\\n\\t\\t 3. '+ input('Hobi 3')\n",
    "for x,y in data.items() :\n",
    "    print(x,y)\n"
   ]
  },
  {
   "cell_type": "code",
   "execution_count": null,
   "metadata": {},
   "outputs": [],
   "source": []
  }
 ],
 "metadata": {
  "kernelspec": {
   "display_name": "base",
   "language": "python",
   "name": "python3"
  },
  "language_info": {
   "codemirror_mode": {
    "name": "ipython",
    "version": 3
   },
   "file_extension": ".py",
   "mimetype": "text/x-python",
   "name": "python",
   "nbconvert_exporter": "python",
   "pygments_lexer": "ipython3",
   "version": "3.11.4"
  }
 },
 "nbformat": 4,
 "nbformat_minor": 2
}
