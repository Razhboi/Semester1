{
 "cells": [
  {
   "cell_type": "code",
   "execution_count": 9,
   "metadata": {},
   "outputs": [
    {
     "name": "stdout",
     "output_type": "stream",
     "text": [
      "Tidak tahun kabisat\n"
     ]
    }
   ],
   "source": [
    "user = int (input(\"Masukan tahun\"))\n",
    "\n",
    "if int (user) %4 ==0:\n",
    "    print(\"Tahun kabisat\")\n",
    "else:\n",
    "    print(\"Tidak tahun kabisat\")"
   ]
  },
  {
   "cell_type": "code",
   "execution_count": 2,
   "metadata": {},
   "outputs": [
    {
     "name": "stdout",
     "output_type": "stream",
     "text": [
      "1 6 2\n",
      "['1', '2', '6']\n",
      "6\n"
     ]
    }
   ],
   "source": [
    "angka=  (input(\"Masukan angka 1 :\"))\n",
    "angka2 =  (input(\"Masukan angka 2:\"))\n",
    "angka3 =  (input(\"Masukan angka 3 :\"))\n",
    "print (angka,angka2,angka3)\n",
    "a = (angka,angka2,angka3)\n",
    "x = sorted(a)\n",
    "print(x)\n",
    "print(int(x[-1]))\n",
    "\n"
   ]
  },
  {
   "cell_type": "code",
   "execution_count": 11,
   "metadata": {},
   "outputs": [
    {
     "name": "stdout",
     "output_type": "stream",
     "text": [
      "Harga\t\t:Rp 200,000.0\n",
      "Harga akhir\t:Rp 188,160.0\n"
     ]
    }
   ],
   "source": [
    "user = float(input(\"Harga barang\"))\n",
    "print (\"Harga\\t\\t:Rp\",f'{user:,}')\n",
    "user2 = input (\"Apakah anda member\")\n",
    "if int(user)>= 100000 and int(user)<=199999 :\n",
    "    user =(int(user)*(97/100))\n",
    "elif int (user)>= 200000:\n",
    "    user = (int(user)*(96/100))\n",
    "else :\n",
    "    user = user  \n",
    "if user2 == \"ya\":\n",
    "    user = ((user)*(98/100))\n",
    "else : \n",
    "    user:user\n",
    "print(\"Harga akhir\\t:Rp\",f'{user:,}')"
   ]
  },
  {
   "cell_type": "code",
   "execution_count": 14,
   "metadata": {},
   "outputs": [
    {
     "name": "stdout",
     "output_type": "stream",
     "text": [
      "Akun berhasil dibuat\n",
      "Username\t: aji\n",
      "Email\t\t: aji@gmail.com\n",
      "Password\t: ajiiiiiiiiiiiiii\n"
     ]
    }
   ],
   "source": [
    "user = input (\"Masukan username\")\n",
    "if user == \"\":\n",
    "    print(\"Username tidak boleh kosong\")\n",
    "else:\n",
    "    email = input (\"Masukan Email\")\n",
    "    if(\"@\"in email)== False:\n",
    "        print('Email tidak valid')\n",
    "    else:\n",
    "        pw = input (\"Masukan Password :\")\n",
    "        if(len(pw))<8:\n",
    "            print(\"Password minimal 8 karakter\")\n",
    "        else:\n",
    "            print(\"Akun berhasil dibuat\")\n",
    "            print(\"Username\\t:\",user)\n",
    "            print(\"Email\\t\\t:\",email)\n",
    "            print(\"Password\\t:\",pw)"
   ]
  },
  {
   "cell_type": "code",
   "execution_count": null,
   "metadata": {},
   "outputs": [],
   "source": []
  }
 ],
 "metadata": {
  "kernelspec": {
   "display_name": "base",
   "language": "python",
   "name": "python3"
  },
  "language_info": {
   "codemirror_mode": {
    "name": "ipython",
    "version": 3
   },
   "file_extension": ".py",
   "mimetype": "text/x-python",
   "name": "python",
   "nbconvert_exporter": "python",
   "pygments_lexer": "ipython3",
   "version": "3.11.4"
  },
  "orig_nbformat": 4
 },
 "nbformat": 4,
 "nbformat_minor": 2
}
