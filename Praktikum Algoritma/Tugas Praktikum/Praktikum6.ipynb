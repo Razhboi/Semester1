{
 "cells": [
  {
   "cell_type": "code",
   "execution_count": 1,
   "metadata": {},
   "outputs": [
    {
     "name": "stdout",
     "output_type": "stream",
     "text": [
      "     *\n",
      "    * *\n",
      "   * * *\n",
      "  * * * *\n",
      " * * * * *\n",
      "* * * * * *\n"
     ]
    }
   ],
   "source": [
    "n = int(input(\"Masukkan tinggi yang diinginkan: \"))\n",
    "for i in range(n):\n",
    "    print(\" \" * (n - i - 1),\"*\",\" *\" * i,sep=\"\",)\n"
   ]
  },
  {
   "cell_type": "code",
   "execution_count": 34,
   "metadata": {},
   "outputs": [
    {
     "name": "stdout",
     "output_type": "stream",
     "text": [
      "[[1], [1, 1], [1, 2, 1]]\n",
      "  1 \n",
      " 1 1 \n",
      "1 2 1 \n"
     ]
    }
   ],
   "source": [
    "n = int(input(\"Masukan nilai\"))\n",
    "list1 = []\n",
    "for i in range (n):\n",
    "    temp_list = []\n",
    "    for j in range (i+1):\n",
    "        if j == 0 or j == i:\n",
    "            temp_list.append(1)\n",
    "        else:\n",
    "            temp_list.append(list1[i-1][j-i] + list1[i-1][j])\n",
    "    list1.append(temp_list)\n",
    "print(list1)\n",
    "\n",
    "for i in range (n):\n",
    "    for j in range (n-i-1):\n",
    "        print(\" \",end=\"\")\n",
    "    for j in range (i+1):\n",
    "        print(list1[i][j],end=\" \")\n",
    "    print()"
   ]
  },
  {
   "cell_type": "code",
   "execution_count": 46,
   "metadata": {},
   "outputs": [
    {
     "name": "stdout",
     "output_type": "stream",
     "text": [
      " 1 + 2.0 +1.0 = 4\n"
     ]
    }
   ],
   "source": [
    "n = int (input(\"masukan angka\"))\n",
    "n += 1\n",
    "m = 1  \n",
    "for x in range(1, n):\n",
    "    print('', m,end=' +',)\n",
    "    m = m * (n - x) /x\n",
    "print (m, '=',(2**(n-1)))"
   ]
  },
  {
   "cell_type": "code",
   "execution_count": null,
   "metadata": {},
   "outputs": [],
   "source": []
  },
  {
   "cell_type": "code",
   "execution_count": null,
   "metadata": {},
   "outputs": [],
   "source": []
  }
 ],
 "metadata": {
  "kernelspec": {
   "display_name": "base",
   "language": "python",
   "name": "python3"
  },
  "language_info": {
   "codemirror_mode": {
    "name": "ipython",
    "version": 3
   },
   "file_extension": ".py",
   "mimetype": "text/x-python",
   "name": "python",
   "nbconvert_exporter": "python",
   "pygments_lexer": "ipython3",
   "version": "3.11.4"
  },
  "orig_nbformat": 4
 },
 "nbformat": 4,
 "nbformat_minor": 2
}
