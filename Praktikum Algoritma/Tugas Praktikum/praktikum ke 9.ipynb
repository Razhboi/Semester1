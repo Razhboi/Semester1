{
 "cells": [
  {
   "cell_type": "code",
   "execution_count": 9,
   "metadata": {},
   "outputs": [
    {
     "name": "stdout",
     "output_type": "stream",
     "text": [
      "Jenis bangun datar\n",
      "1. Lingkaran\n",
      "2. Persegi\n",
      "3. Segitiga\n",
      "4. Selesai\n",
      "Error: Harap masukkan nilai yang valid.\n",
      "Jenis bangun datar\n",
      "1. Lingkaran\n",
      "2. Persegi\n",
      "3. Segitiga\n",
      "4. Selesai\n",
      "Luas persegi = 4.0\n",
      "Keliling persegi = 8.0\n",
      "Jenis bangun datar\n",
      "1. Lingkaran\n",
      "2. Persegi\n",
      "3. Segitiga\n",
      "4. Selesai\n"
     ]
    }
   ],
   "source": [
    "def lingkaran(r):\n",
    "    luas_lingkaran = 3.14 * r**2\n",
    "    keliling_lingkaran = 2 * 3.14* r\n",
    "    return luas_lingkaran, keliling_lingkaran\n",
    "\n",
    "def persegi(s):\n",
    "    luas_persegi = s**2\n",
    "    keliling_persegi = 4 * s\n",
    "    return luas_persegi, keliling_persegi\n",
    "\n",
    "def segitiga(a, t):\n",
    "    luas_segitiga = 0.5 * a * t\n",
    "    return luas_segitiga\n",
    "\n",
    "while True:\n",
    "    print(\"Jenis bangun datar\")\n",
    "    print(\"1. Lingkaran\\n2. Persegi\\n3. Segitiga\\n4. Selesai\")\n",
    "    masukan_rumus = input(\"Masukkan jenis bangun datar yang ingin dihitung: \")\n",
    "\n",
    "    if masukan_rumus == \"Selesai\":\n",
    "        break\n",
    "\n",
    "    if masukan_rumus in [\"lingkaran\", \"persegi\", \"segitiga\"]:\n",
    "        try:\n",
    "            if masukan_rumus == \"lingkaran\":\n",
    "                r= input(\"Masukkan jari-jari lingkaran: \")\n",
    "                if not r.strip():\n",
    "                    raise ValueError\n",
    "                if not r.isdigit():\n",
    "                    raise ValueError(\"Hanya boleh memasukkan angka\")\n",
    "                r = float(r)\n",
    "                luas, keliling = lingkaran(r)\n",
    "\n",
    "            elif masukan_rumus == \"persegi\":\n",
    "                s = input(\"Masukkan sisi persegi: \")\n",
    "                if not s.strip:\n",
    "                    raise ValueError(\"Nilai tidak boleh kosong\")\n",
    "                if not s.isdigit():\n",
    "                    raise ValueError(\"Hanya boleh memasukkan angka\")\n",
    "                s = float(s)\n",
    "                luas, keliling = persegi(s)\n",
    "\n",
    "            elif masukan_rumus == \"segitiga\":\n",
    "                a = input(\"Masukkan alas segitiga: \")\n",
    "                t = input('Masukkan tinggi segitiga: ')\n",
    "                if not a.strip() or not t.strip():\n",
    "                    raise ValueError(\"Nilai tidak boleh kosong\")\n",
    "                if not a.isdigit() or not t.isdigit():\n",
    "                    raise ValueError(\"Hanya boleh memasukkan angka\")\n",
    "                a = float(a)\n",
    "                t = float(t)\n",
    "                luas = segitiga(a, t)\n",
    "                keliling = None  \n",
    "\n",
    "            print(f\"Luas {masukan_rumus} =\", luas)\n",
    "            if keliling is not None:\n",
    "                print(f\"Keliling {masukan_rumus} =\", keliling)\n",
    "\n",
    "        except ValueError:\n",
    "            print(f\"Error: Harap masukkan nilai yang valid.\")\n",
    "\n",
    "    else:\n",
    "        print(\"Pilihan tidak valid.\")\n"
   ]
  },
  {
   "cell_type": "code",
   "execution_count": 3,
   "metadata": {},
   "outputs": [
    {
     "name": "stdout",
     "output_type": "stream",
     "text": [
      "Nama tamu\t\t\t\t: nopal\n",
      "Alamat tamu\t\t\t\t: asda\n",
      "Apakah member\t\t\t\t: ya\n",
      "Lama mengnginap\t\t\t\t: 1\n",
      "Tipe kamar\t\t\t\t: 5\n",
      "Error:  Harap masukkan nilai yang valid.\n"
     ]
    }
   ],
   "source": [
    "nama = input(\"Nama Tamu\\t\\t =\")\n",
    "print(\"Nama tamu\\t\\t\\t\\t:\",nama)\n",
    "alamat = input(\"Alamat tamu\\t\\t\\t =\")\n",
    "print(\"Alamat tamu\\t\\t\\t\\t:\",alamat)\n",
    "member = input(\"Apakah member\\t\\t\\t =\")\n",
    "print(\"Apakah member\\t\\t\\t\\t:\",member)\n",
    "try:\n",
    "    if member == \"ya\" or member== \"no\":\n",
    "        lama = int(input(\"Lama menginap\\t\\t\\t =\"))\n",
    "        print(\"Lama mengnginap\\t\\t\\t\\t:\",lama)\n",
    "        tipe = input(\"Tipe kamar\\t\\t\\t =\")\n",
    "        print(\"Tipe kamar\\t\\t\\t\\t:\",tipe)\n",
    "        if tipe in [\"1\", \"2\", \"3\"]:\n",
    "            if tipe == \"1\":\n",
    "                hargaKamar = 1000000\n",
    "            elif tipe == \"2\":\n",
    "                hargaKamar = 600000\n",
    "            elif tipe == \"3\":\n",
    "                hargaKamar = 400000\n",
    "\n",
    "            if member == \"ya\":\n",
    "                hargaKamar *= 0.8\n",
    "        else:\n",
    "            raise ValueError(\"Tipe kamar tidak valid\")\n",
    "\n",
    "        hargaAkhir = hargaKamar * lama\n",
    "        print(\"Biaya yang harus dibayarkan tamu \\t: Rp\", hargaAkhir)\n",
    "\n",
    "except ValueError :\n",
    "    print(f\"Error:  Harap masukkan nilai yang valid.\")"
   ]
  },
  {
   "cell_type": "code",
   "execution_count": null,
   "metadata": {},
   "outputs": [],
   "source": []
  },
  {
   "cell_type": "code",
   "execution_count": null,
   "metadata": {},
   "outputs": [],
   "source": []
  }
 ],
 "metadata": {
  "kernelspec": {
   "display_name": "base",
   "language": "python",
   "name": "python3"
  },
  "language_info": {
   "codemirror_mode": {
    "name": "ipython",
    "version": 3
   },
   "file_extension": ".py",
   "mimetype": "text/x-python",
   "name": "python",
   "nbconvert_exporter": "python",
   "pygments_lexer": "ipython3",
   "version": "3.11.4"
  }
 },
 "nbformat": 4,
 "nbformat_minor": 2
}
