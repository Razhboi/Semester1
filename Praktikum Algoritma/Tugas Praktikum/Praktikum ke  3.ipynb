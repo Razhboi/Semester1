{
 "cells": [
  {
   "cell_type": "code",
   "execution_count": 1,
   "id": "811a3c97-8789-401c-97fc-21a0fd2c67db",
   "metadata": {
    "tags": []
   },
   "outputs": [
    {
     "name": "stdout",
     "output_type": "stream",
     "text": [
      "Nama\t\t: Noufal Aji Prasetyo\t\n",
      "\n",
      "Program Studi\t: Teknologi Informasi\n",
      "\n",
      "NPM\t\t: 2340506059  \n",
      "\n",
      "Alamat\t\t: Drojogan,Bumirejo,Rt05/Rw03,Mungkid,Magelang\n",
      "\n",
      "Hobi\t\t: Ngoding\n",
      "\n",
      "Email\t\t: noufalaji4@gmail.com\n"
     ]
    }
   ],
   "source": [
    "biodata = open(r\"C:\\Users\\Dell\\OneDrive\\Documents\\nopalbiodata.txt\")\n",
    "fileContent= biodata.read()\n",
    "print(fileContent)\n"
   ]
  },
  {
   "cell_type": "code",
   "execution_count": 9,
   "id": "625523f8-43d4-4a6e-97f1-90365246386b",
   "metadata": {
    "tags": []
   },
   "outputs": [
    {
     "name": "stdout",
     "output_type": "stream",
     "text": [
      "Nama\t\t: Noufal Aji Prasetyo\t\n",
      "\n",
      "Program Studi\t: Teknologi Informasi\n",
      "\n",
      "Email\t\t: noufalaji4@gmail.com\n"
     ]
    }
   ],
   "source": [
    "biodata = open(r\"C:\\Users\\Dell\\OneDrive\\Documents\\nopalbiodata.txt\")\n",
    "FileasList = biodata.readlines()\n",
    "print(FileasList[0])\n",
    "print(FileasList[2])\n",
    "print(FileasList[10])"
   ]
  },
  {
   "cell_type": "code",
   "execution_count": 17,
   "id": "514a2853-3ae2-476b-84c2-40e7fe3ef133",
   "metadata": {
    "tags": []
   },
   "outputs": [],
   "source": [
    "with open(r'C:\\Users\\Dell\\OneDrive\\Documents\\nopalbiodata.txt','r') as ridefile:\n",
    "    with open (r'C:\\Users\\Dell\\OneDrive\\Documents\\biodata2.txt','w') as writefile:\n",
    "        FileasList = ridefile.readlines()\n",
    "        writefile.write(FileasList[0])\n",
    "        writefile.write(FileasList[4])\n",
    "        writefile.write(FileasList[2])\n",
    "        writefile.write(FileasList[6])\n",
    "        \n",
    "        "
   ]
  },
  {
   "cell_type": "code",
   "execution_count": 51,
   "id": "45b2245e-bdc5-4120-bfea-6efa2c270eca",
   "metadata": {
    "tags": []
   },
   "outputs": [
    {
     "name": "stdout",
     "output_type": "stream",
     "text": [
      "Selamat datang di Toko Maju Jaya\n",
      "Senin, 4 September 2023 13.05\n",
      " \n",
      "DAFTAR BELANJA:\n",
      "Sabun = Rp 10000\n",
      "Shampo = Rp 15000\n",
      "Mie instant = Rp 5000\n",
      "Detergen = Rp 17500\n",
      " \n",
      "Total = Rp  47500\n"
     ]
    }
   ],
   "source": [
    "print (\"Selamat datang di Toko Maju Jaya\")\n",
    "print (\"Senin, 4 September 2023 13.05\")\n",
    "print(\" \")\n",
    "\n",
    "print (\"DAFTAR BELANJA:\")\n",
    "item1 = \"Sabun\"\n",
    "item2 = \"Shampo\"\n",
    "item3 = \"Mie instant\"\n",
    "item4 = \"Detergen\"\n",
    "harga1 = 10000\n",
    "harga2 = 15000\n",
    "harga3 = 5000\n",
    "harga4 = 17500\n",
    "\n",
    "total = harga1+harga2+harga3+harga4\n",
    "\n",
    "print(item1,\"= Rp\",harga1)\n",
    "print(item2,\"= Rp\",harga2)\n",
    "print(item3,\"= Rp\",harga3)\n",
    "print(item4,\"= Rp\",harga4)\n",
    "\n",
    "print(\" \")\n",
    "print(\"Total = Rp \",total)\n",
    "\n",
    "with open(r\"C:\\Users\\Dell\\OneDrive\\Documents\\Kuitansi.txt\",'w') as writefile:\n",
    "        writefile.write(\"Selamat Datang di Toko Maju Jaya\")\n",
    "        writefile.write(\" \\n\")\n",
    "        writefile.write(\"Kuitansi - 4 Septermber 2023\\n\")\n",
    "        writefile.write(\" \\n\")\n",
    "        writefile.write(item1+\" = Rp\"+ str(harga1)+\"\\n\")\n",
    "        writefile.write(item2+\"= Rp\" + str(harga2)+\"\\n\")\n",
    "        writefile.write(item3+\"= Rp\" + str(harga3)+\"\\n\")\n",
    "        writefile.write(item4+\"= Rp\" + str(harga4)+\"\\n\")\n",
    "        writefile.write(\" \\n\")\n",
    "        writefile.write(\"Total Belanja =\"+str(total))\n"
   ]
  },
  {
   "cell_type": "code",
   "execution_count": null,
   "id": "36b09ed8-738a-4895-aee9-6e74c3b66495",
   "metadata": {},
   "outputs": [],
   "source": []
  }
 ],
 "metadata": {
  "kernelspec": {
   "display_name": "Python 3 (ipykernel)",
   "language": "python",
   "name": "python3"
  },
  "language_info": {
   "codemirror_mode": {
    "name": "ipython",
    "version": 3
   },
   "file_extension": ".py",
   "mimetype": "text/x-python",
   "name": "python",
   "nbconvert_exporter": "python",
   "pygments_lexer": "ipython3",
   "version": "3.11.4"
  }
 },
 "nbformat": 4,
 "nbformat_minor": 5
}
